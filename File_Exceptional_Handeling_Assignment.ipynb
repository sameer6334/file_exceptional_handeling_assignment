{
 "cells": [
  {
   "cell_type": "code",
   "execution_count": 26,
   "id": "ce73c480-c9b2-4641-baf1-7d6b1f3fb98d",
   "metadata": {},
   "outputs": [],
   "source": [
    "# Files, Exceptional handeling, Logging, Memory management.\n",
    "\n",
    "# ---\n",
    "\n",
    "# 1. What is the difference between interpreted and compiled languages?\n",
    "#   - Interpreted -> An Interpreted Language is a type of programming language where the code is compiled on the fly each time the program is run.\n",
    "#   - Compiled -> compiled languages here the code is compiled only once into machine code.\n",
    "#   - Compiled language follows at least two levels to get from source code to execution. Interpreted language follows one step to get from source code to execution. A compiled language is converted into machine code so that the processor can execute it.\n",
    "\n",
    "# 2.  What is exception handling in Python?\n",
    "#   - It means to handel any error which occures in doing programming or coding. exceptional handeling prevent any exception code to give error and stop the further running of code.\n",
    "\n",
    "# 3.  What is the purpose of the finally block in exception handling?\n",
    "#   - Finally block gives the final output of the code if code has any error or not finally block code will run always.\n",
    "\n",
    "# 4.  What is logging in Python?\n",
    "#   - Python logging is a module that allows you to track events that occur while your program is running. You can use logging to record information about errors, warnings, and other events that occur during program execution. And logging is a useful tool for debugging, troubleshooting, and monitoring your program.\n",
    "\n",
    "# 5.  What is the significance of the __del__ method in Python?\n",
    "#   - __del__ method helps to remove or delete the function or any other code which is mentioned in __del__ method.\n",
    "\n",
    "# 6.  What is the difference between import and from ... import in Python?\n",
    "#   - imoprt method imports the entire library functions which is related to that library what we called with import.\n",
    "#   - from ... import does import only a particular function from the library what we called not the entire library's functions.\n",
    "\n",
    "# 7.  How can you handle multiple exceptions in Python?\n",
    "#   - Python allows you to catch multiple exceptions in a single 'except' block by specifying them as a tuple. This feature is useful when different exceptions require similar handling logic. In this case, if either 'ExceptionType1' or 'ExceptionType2' is raised, the code within the 'except' block will be executed.\n",
    "\n",
    "# 8.  What is the purpose of the with statement when handling files in Python\n",
    "#   - The with statement in Python is used to simplify the management of resources that need to be acquired and released in a specific order. It provides a way to wrap the execution of a block of code with methods defined by a context manager.\n",
    "\n",
    "# 9.  What is the difference between multithreading and multiprocessing?\n",
    "#   - Multithreading refers to the ability of a processor to execute multiple threads concurrently, where each thread runs a process.\n",
    "#   - Multiprocessing refers to the ability of a system to run multiple processors in parallel, where each processor can run one or more threads.\n",
    "\n",
    "# 10.  What are the advantages of using logging in a program?\n",
    "#   - It is also useful to log successful requests so we can have a clear idea of how users work with the application. But this goes beyond that. Logs are also useful to detect common mistakes users make, as well as for security purposes.\n",
    "\n",
    "# 11.  What is memory management in Python?\n",
    "#   - Processors had multiple cores and threads by default all programm or work perfors only one core and one thread, memory management helps to use the other cores and threads it helps to save the time.\n",
    "\n",
    "# 12.  What are the basic steps involved in exception handling in Python?\n",
    "#   - basic steps are, use Try: method to write the exceptional code into it and then use except block to find the which type of error it could occurs. we can also use the finally block but it's act like a normal code to run.\n",
    "\n",
    "# 13.  Why is memory management important in Python?\n",
    "#   - memory management helps to save the time because memory management use multiple cores and threads which helps to perform the task in few times than actual time. it's also helps to use multiple cores and threads in processors of CPU.\n",
    "\n",
    "# 14.  What is the role of try and except in exception handling?\n",
    "#   - Try block is used for writing the exceptional code which code is doubtful code, it runs the code and sees the given code is perfect or had any errors into it.\n",
    "#   - except block helps to get information about the if there is any error it help to find that error and type of that error and does not stops the further code to run.\n",
    "\n",
    "# 15.  How does Python's garbage collection system work?\n",
    "#   - Garbage collection is the process of releasing memory when the object is no longer in use. This system destroys the unused object and reuses its memory slot for new objects.\n",
    "\n",
    "# 16.  What is the purpose of the else block in exception handling?\n",
    "#   - else block helps to procces the code if there is no error in given code to try block to try the code if there is any error or not. If not then else block code excutes...\n",
    "\n",
    "# 17.  What are the common logging levels in Python?\n",
    "#   - common logging levels are :\n",
    "#   - Debug\n",
    "#   - Info\n",
    "#   - Warning\n",
    "#   - Error\n",
    "#   - Critical\n",
    "\n",
    "# 18.  What is the difference between os.fork() and multiprocessing in Python?\n",
    "#   - The fork method is only supported on POSIX-based systems like Linux and macOS (not Windows). fork used for running the code or performing the code faster than multiprocessing this is the only difference between fork method and multiprocessing.\n",
    "\n",
    "# 19.  What is the importance of closing a file in Python?\n",
    "#   - closing a file is important because other can not perform any changes to the file which is opened, mainly it's important as the safety purposes.\n",
    "\n",
    "# 20.  What is the difference between file.read() and file.readline() in Python?\n",
    "#   - file.read() helps to read the entire file in one go, but on the other hand file.readline() helps to read the file line by line instead of entire file in one go.\n",
    "\n",
    "# 21.  What is the logging module in Python used for?\n",
    "#   - Python logging is a module that allows you to track events that occur while your program is running. You can use logging to record information about errors, warnings, and other events that occur during program execution. And logging is a useful tool for debugging, troubleshooting, and monitoring your program.\n",
    "\n",
    "# 22.  What is the os module in Python used for in file handling?\n",
    "#   - Python has a built-in os module with methods for interacting with the operating system, like creating files and directories, management of files and directories, input, output, environment variables, process management, etc.\n",
    "\n",
    "# 23.  What are the challenges associated with memory management in Python?\n",
    "#   - Memory management performs the program by using multiple cores and threads that's why it's helps to do perform the task faster but because it perform the codes in different cores that's why there is no sequence of output happens.\n",
    "\n",
    "# 24.  How do you raise an exception manually in Python?\n",
    "#   - As a Python developer you can choose to throw an exception if a condition occurs. To throw (or raise) an exception, use the raise keyword.\n",
    "\n",
    "# 25.  Why is it important to use multithreading in certain applications?\n",
    "#   - Multithreading enhances scalability by allowing a program to take advantage of multiple CPU cores or processors. Tasks can be divided into threads that can execute concurrently, enabling better utilization of available hardware resources and improving overall system performance as workload increases.\n",
    "  "
   ]
  },
  {
   "cell_type": "code",
   "execution_count": 27,
   "id": "3699b432-6c45-485f-95a2-8a0dd9b6a660",
   "metadata": {},
   "outputs": [],
   "source": [
    "#1.  How can you open a file for writing in Python and write a string to it?\n",
    "\n",
    "file = open(\"file.txt\", \"w\")\n",
    "file.write(\"example string\")\n",
    "file.close()"
   ]
  },
  {
   "cell_type": "code",
   "execution_count": 28,
   "id": "f0a8982f-0fcb-479a-b9f4-a36e191ccef9",
   "metadata": {},
   "outputs": [
    {
     "name": "stdout",
     "output_type": "stream",
     "text": [
      "example string\n"
     ]
    }
   ],
   "source": [
    "#2.  Write a Python program to read the contents of a file and print each line?\n",
    "\n",
    "file = open(\"file.txt\", \"r\")\n",
    "print(file.read())"
   ]
  },
  {
   "cell_type": "code",
   "execution_count": 29,
   "id": "3832596b-52f3-4ae8-9f48-a7c3fa769a10",
   "metadata": {},
   "outputs": [
    {
     "name": "stdout",
     "output_type": "stream",
     "text": [
      "[Errno 2] No such file or directory: 'file1.txt'\n"
     ]
    }
   ],
   "source": [
    "#3.  How would you handle a case where the file doesn't exist while trying to open it for reading?\n",
    "\n",
    "try:\n",
    "  with open(\"file1.txt\", \"r\") as file:\n",
    "    file\n",
    "except Exception as e:\n",
    "  print(e)\n",
    "else:\n",
    "  print(file.read())"
   ]
  },
  {
   "cell_type": "code",
   "execution_count": 30,
   "id": "576c771e-6230-4361-b04a-0bd878030e25",
   "metadata": {},
   "outputs": [],
   "source": [
    "#4.  Write a Python script that reads from one file and writes its content to another file.\n",
    "\n",
    "file = open(\"file.txt\", \"w\")\n",
    "file.write(\"line of the first file.\")\n",
    "\n",
    "file = open(\"file.txt\", \"r\")\n",
    "read_file = file.read()\n",
    "\n",
    "def create_file(x):\n",
    "    file2 = open(\"newfile.txt\", \"w\")\n",
    "    file2.write(x)\n",
    "\n",
    "create_file(read_file)"
   ]
  },
  {
   "cell_type": "code",
   "execution_count": 31,
   "id": "8a9a0c5e-46bd-4b4d-99fe-36c1052f1019",
   "metadata": {},
   "outputs": [
    {
     "name": "stdout",
     "output_type": "stream",
     "text": [
      "there is a error = division by zero\n"
     ]
    }
   ],
   "source": [
    "#5.  How would you catch and handle division by zero error in Python?\n",
    "\n",
    "try:\n",
    "  10/0\n",
    "except ZeroDivisionError as e:\n",
    "  print(\"there is a error =\",e)"
   ]
  },
  {
   "cell_type": "code",
   "execution_count": 32,
   "id": "fb32cf3a-b06b-4210-b3eb-365059a627e6",
   "metadata": {},
   "outputs": [],
   "source": [
    "#6.  Write a Python program that logs an error message to a log file when a division by zero exception occurs.\n",
    "\n",
    "import logging\n",
    "\n",
    "logging.basicConfig(filename= \"file1.log\")\n",
    "\n",
    "try:\n",
    "    10/0\n",
    "except Exception as e:\n",
    "    logging.error(f\"this is the error occours when running the code = {e}\")"
   ]
  },
  {
   "cell_type": "code",
   "execution_count": 33,
   "id": "2d294117-9aa8-452f-9936-c361180f6fba",
   "metadata": {},
   "outputs": [],
   "source": [
    "from sre_constants import INFO\n",
    "#7.  How do you log information at different levels (INFO, ERROR, WARNING) in Python using the logging module?\n",
    "\n",
    "import logging\n",
    "\n",
    "logging.basicConfig(filename = \"log_file.log\")\n",
    "\n",
    "logging.info(\"this is the information about the log file.\")\n",
    "logging.error(\"this is the error occurs when running the code.\")\n",
    "logging.warning(\"it's a warning to log file.\")"
   ]
  },
  {
   "cell_type": "code",
   "execution_count": 34,
   "id": "1845dfbc-545f-4443-9a2f-a3fe9f2eb677",
   "metadata": {},
   "outputs": [],
   "source": [
    "#8.  Write a program to handle a file opening error using exception handling.\n",
    "\n",
    "try:\n",
    "    with open(\"file.txt\") as file:\n",
    "        file\n",
    "except Exception as e:\n",
    "    print(f\"error = {e}\")"
   ]
  },
  {
   "cell_type": "code",
   "execution_count": 35,
   "id": "9ad6cff9-c78a-47b8-984f-9a032d511834",
   "metadata": {},
   "outputs": [
    {
     "name": "stdout",
     "output_type": "stream",
     "text": [
      "['this is the fourth line.', '', '']\n"
     ]
    }
   ],
   "source": [
    "#9.  How can you read a file line by line and store its content in a list in Python?\n",
    "\n",
    "file = open(\"test_file.txt\", \"r\")\n",
    "\n",
    "file_list = []\n",
    "for i in range(3):\n",
    "    a = file.readline()\n",
    "    file_list.append(a)\n",
    "\n",
    "print(file_list)"
   ]
  },
  {
   "cell_type": "code",
   "execution_count": 36,
   "id": "3c08afc3-a133-4052-aac9-7bf54f0f7acc",
   "metadata": {},
   "outputs": [],
   "source": [
    "#10  How can you append data to an existing file in Python?\n",
    "\n",
    "file = open(\"test_file.txt\", \"a\")\n",
    "\n",
    "file.write(\"this is the fourth line.\")\n",
    "file.close()"
   ]
  },
  {
   "cell_type": "code",
   "execution_count": 37,
   "id": "36818206-31dc-4797-928d-04ffb565b830",
   "metadata": {},
   "outputs": [
    {
     "name": "stdout",
     "output_type": "stream",
     "text": [
      "there is a error 'key3'\n"
     ]
    }
   ],
   "source": [
    "#11. Write a Python program that uses a try-except block to handle an error when attempting to access a\n",
    "# dictionary key that doesn't exist.\n",
    "\n",
    "new_dict = {\"key1\" : 123, \"key2\" : 456}\n",
    "\n",
    "try:\n",
    "    print(new_dict[\"key3\"])\n",
    "\n",
    "except Exception as e:\n",
    "    print(f\"there is a error {e}\")"
   ]
  },
  {
   "cell_type": "code",
   "execution_count": 38,
   "id": "4cc53001-bd80-478a-bef1-f297a7273037",
   "metadata": {},
   "outputs": [
    {
     "name": "stdout",
     "output_type": "stream",
     "text": [
      "there is a error 'key3'\n"
     ]
    }
   ],
   "source": [
    "#12.  Write a program that demonstrates using multiple except blocks to handle different types of exceptions.\n",
    "\n",
    "new_dict = {\"key1\" : 123, \"key2\" : 456}\n",
    "\n",
    "try:\n",
    "    print(new_dict[\"key3\"])\n",
    "\n",
    "except ZeroDivisionError as e:\n",
    "    print(f\"there is a error {e}\")\n",
    "\n",
    "except KeyError as e:\n",
    "    print(f\"there is a error {e}\")"
   ]
  },
  {
   "cell_type": "code",
   "execution_count": 39,
   "id": "c363a7f3-08b6-4a6f-b04e-dc30c78029b2",
   "metadata": {},
   "outputs": [
    {
     "name": "stdout",
     "output_type": "stream",
     "text": [
      "True\n"
     ]
    }
   ],
   "source": [
    "#13.  How would you check if a file exists before attempting to read it in Python?\n",
    "\n",
    "from pathlib import Path\n",
    "\n",
    "print(Path(\"file.txt\").exists())"
   ]
  },
  {
   "cell_type": "code",
   "execution_count": 40,
   "id": "2c5781dc-9211-450e-b74c-f3cd93ab4568",
   "metadata": {},
   "outputs": [],
   "source": [
    "#14.  Write a program that uses the logging module to log both informational and error messages.\n",
    "\n",
    "import logging\n",
    "\n",
    "import logging\n",
    "\n",
    "logging.basicConfig(filename = \"file.log\", level = logging.INFO)\n",
    "\n",
    "logging.info(\"this is the information about log file.\")\n",
    "logging.error(\"error occcurs when running the file.\")"
   ]
  },
  {
   "cell_type": "code",
   "execution_count": 41,
   "id": "448132b0-38b1-42f8-bd9a-868c0ed7daba",
   "metadata": {},
   "outputs": [
    {
     "name": "stdout",
     "output_type": "stream",
     "text": [
      "error = [Errno 2] No such file or directory: 'test.txt'\n"
     ]
    }
   ],
   "source": [
    "#15.  Write a Python program that prints the content of a file and handles the case when the file is empty.\n",
    "\n",
    "try:\n",
    "  file = open(\"test.txt\", \"r\")\n",
    "  print(file.read())\n",
    "except Exception as e :\n",
    "  print(f\"error = {e}\")"
   ]
  },
  {
   "cell_type": "code",
   "execution_count": 42,
   "id": "aaf32da3-496f-471f-b181-b3a7bea15e51",
   "metadata": {},
   "outputs": [
    {
     "ename": "ModuleNotFoundError",
     "evalue": "No module named 'memory_profiler'",
     "output_type": "error",
     "traceback": [
      "\u001b[1;31m---------------------------------------------------------------------------\u001b[0m",
      "\u001b[1;31mModuleNotFoundError\u001b[0m                       Traceback (most recent call last)",
      "Cell \u001b[1;32mIn[42], line 3\u001b[0m\n\u001b[0;32m      1\u001b[0m \u001b[38;5;66;03m#16.  Demonstrate how to use memory profiling to check the memory usage of a small program.\u001b[39;00m\n\u001b[1;32m----> 3\u001b[0m \u001b[38;5;28;01mfrom\u001b[39;00m \u001b[38;5;21;01mmemory_profiler\u001b[39;00m \u001b[38;5;28;01mimport\u001b[39;00m profile\n\u001b[0;32m      5\u001b[0m \u001b[38;5;129m@profile\u001b[39m\n\u001b[0;32m      6\u001b[0m \n\u001b[0;32m      7\u001b[0m \u001b[38;5;28;01mdef\u001b[39;00m \u001b[38;5;21mmy_func\u001b[39m():\n\u001b[0;32m      8\u001b[0m     x \u001b[38;5;241m=\u001b[39m [x \u001b[38;5;28;01mfor\u001b[39;00m x \u001b[38;5;129;01min\u001b[39;00m \u001b[38;5;28mrange\u001b[39m(\u001b[38;5;241m0\u001b[39m, \u001b[38;5;241m100\u001b[39m)]\n",
      "\u001b[1;31mModuleNotFoundError\u001b[0m: No module named 'memory_profiler'"
     ]
    }
   ],
   "source": [
    "#16.  Demonstrate how to use memory profiling to check the memory usage of a small program.\n",
    "\n",
    "from memory_profiler import profile\n",
    "\n",
    "@profile\n",
    "\n",
    "def my_func():\n",
    "    x = [x for x in range(0, 100)]\n",
    "    y = [y*100 for y in range(0, 150)]\n",
    "    del x\n",
    "    return y\n",
    "\n",
    "if __name__ == '__main__':\n",
    "    my_func()\n"
   ]
  },
  {
   "cell_type": "code",
   "execution_count": null,
   "id": "7ddff91e-1f9f-4daa-8413-ccd5fcdebfaa",
   "metadata": {},
   "outputs": [],
   "source": [
    "#17.  Write a Python program to create and write a list of numbers to a file, one number per line.\n",
    "\n",
    "list = [1, 2, 3, 4, 5]\n",
    "with open(\"list_file.txt\", \"w\") as file:\n",
    "    for i in list:\n",
    "        file.write(f\"{i}\\n\")"
   ]
  },
  {
   "cell_type": "code",
   "execution_count": 43,
   "id": "dc284465-4938-44ac-bf07-439839975478",
   "metadata": {},
   "outputs": [],
   "source": [
    "#18.  How would you implement a basic logging setup that logs to a file with rotation after 1MB?\n",
    "\n",
    "import logging\n",
    "import time\n",
    "\n",
    "from logging.handlers import RotatingFileHandler\n",
    "\n",
    "def create_rotating_handler(Path):\n",
    "    logger = logging.getLogger(\"Rotating Log\")\n",
    "    logger.setLevel(logging.INFO)\n",
    "\n",
    "    handler = RotatingFileHandler(Path, maxBytes = 1)\n",
    "    logger.addHandler(handler)\n",
    "\n",
    "    for i in range(10):\n",
    "        logger.info(\"this is test log line %s\" %i)\n",
    "        time.sleep(1)\n",
    "\n",
    "if __name__ == \"__main__\":\n",
    "    log_file = \"test_log\"\n",
    "    create_rotating_handler(log_file)"
   ]
  },
  {
   "cell_type": "code",
   "execution_count": 44,
   "id": "e8365960-39d8-4877-87d1-84bb629daad2",
   "metadata": {},
   "outputs": [
    {
     "name": "stdout",
     "output_type": "stream",
     "text": [
      "there is error = list index out of range\n",
      "there is error = 'key4'\n"
     ]
    }
   ],
   "source": [
    "#19.  Write a program that handles both IndexError and KeyError using a try-except block.\n",
    "\n",
    "new_list = [1, 2, 3, 4, 5]\n",
    "new_dict = {\"key1\" : 1, \"key2\" : 2, \"key3\" : 3}\n",
    "\n",
    "try:\n",
    "    print(new_list[5])\n",
    "\n",
    "except IndexError as i:\n",
    "    print(f\"there is error = {i}\")\n",
    "\n",
    "try:\n",
    "    print(new_dict[\"key4\"])\n",
    "except KeyError as k:\n",
    "    print(f\"there is error = {k}\")"
   ]
  },
  {
   "cell_type": "code",
   "execution_count": 45,
   "id": "76a0e726-aea4-4171-8d2e-d84751b5b2b9",
   "metadata": {},
   "outputs": [
    {
     "data": {
      "text/plain": [
       "'line of the first file.'"
      ]
     },
     "execution_count": 45,
     "metadata": {},
     "output_type": "execute_result"
    }
   ],
   "source": [
    "#20.  How would you open a file and read its contents using a context manager in Python?\n",
    "\n",
    "file = open(\"file.txt\", \"r\")\n",
    "file.read()"
   ]
  },
  {
   "cell_type": "code",
   "execution_count": 46,
   "id": "bb020196-38e4-48e7-adb5-366debe605f2",
   "metadata": {},
   "outputs": [
    {
     "name": "stdout",
     "output_type": "stream",
     "text": [
      "2\n"
     ]
    }
   ],
   "source": [
    "#21.  Write a Python program that reads a file and prints the number of occurrences of a specific word.\n",
    "\n",
    "file = open(\"test_file.txt\", \"r\")\n",
    "\n",
    "a = file.read()\n",
    "print(a.count(\"line\"))"
   ]
  },
  {
   "cell_type": "code",
   "execution_count": 47,
   "id": "725fd074-5936-483e-8f89-3228e73743bb",
   "metadata": {},
   "outputs": [
    {
     "name": "stdout",
     "output_type": "stream",
     "text": [
      "True\n"
     ]
    }
   ],
   "source": [
    "#22.  How can you check if a file is empty before attempting to read its contents?\n",
    "\n",
    "from pathlib import Path\n",
    "\n",
    "print(Path(\"file.txt\").exists())"
   ]
  },
  {
   "cell_type": "code",
   "execution_count": 48,
   "id": "a83d9b89-e30f-4ab2-84ef-7244f9071098",
   "metadata": {},
   "outputs": [],
   "source": [
    "#23.  Write a Python program that writes to a log file when an error occurs during file handling.\n",
    "\n",
    "import logging\n",
    "\n",
    "logging.basicConfig(filename = \"file.log\")\n",
    "\n",
    "try:\n",
    "    with open(\"file.txt\", \"r\") as file:\n",
    "        file\n",
    "except Exception as e:\n",
    "    logging.error(f\"error is {e}\")"
   ]
  },
  {
   "cell_type": "code",
   "execution_count": null,
   "id": "ebf6dabd-264e-4f5f-b8e2-53df2ddf6725",
   "metadata": {},
   "outputs": [],
   "source": []
  },
  {
   "cell_type": "code",
   "execution_count": null,
   "id": "88211398-0c3b-4fc9-81e6-4901705a2bce",
   "metadata": {},
   "outputs": [],
   "source": []
  }
 ],
 "metadata": {
  "kernelspec": {
   "display_name": "Python 3 (ipykernel)",
   "language": "python",
   "name": "python3"
  },
  "language_info": {
   "codemirror_mode": {
    "name": "ipython",
    "version": 3
   },
   "file_extension": ".py",
   "mimetype": "text/x-python",
   "name": "python",
   "nbconvert_exporter": "python",
   "pygments_lexer": "ipython3",
   "version": "3.13.0"
  }
 },
 "nbformat": 4,
 "nbformat_minor": 5
}
